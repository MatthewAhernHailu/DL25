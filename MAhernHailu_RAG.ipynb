{
 "cells": [
  {
   "cell_type": "code",
   "execution_count": null,
   "id": "d0b62245",
   "metadata": {},
   "outputs": [],
   "source": [
    "##1. AI is includes both Machine Learning and Deep learn, its the bigger concept of making machines clever. Machine learning is a part where we train computers on data, deep learning is similar but uses big neural networks to train itself more complex stuff.\n",
    "\n",
    "##2. Keras is an interface that runs oon tensor flow to make it easier to work with, tensor flow itself is just a tool to use when making AI models.\n",
    "\n",
    "\n",
    "##3. Parameters are what models learn while training whereas hyperparamters are like instructions we set the model before we start the training like how fast it should learn or how many epochs it should run on through the data.\n",
    "\n",
    "##4. Training = Learns the model. Validation = tweaks/tunes the data during the training phase. Test = for evaluating how good the model was after training, on unseen data (the part of the data we split at teh start that the model isn't trained on).\n",
    "\n",
    "##5. The code is building and training a neural network. The network will have 3 layers of nodes, first 100, then 50 and 1 output. \n",
    "# Its got two activations, first Relu which only allows positive values through to the bext layer, Sigmoid turns the output into binart output (1 or 0). \n",
    "# Its got an early stopping function which mkaes the model stop if there isn't any improvement in results after 5 rounds. It splits the data into 80% and 20%, 80 for training teh data and the last 20% for validation.\n",
    "\n",
    "##6. It should stop the model from overfitting where it basically becomes a memory model its not actually look for patterns its trying to memorize the data set for perfect score, which would make it ineffective on unseen data,.\n",
    "\n",
    "##7. its a regularising technique where random neurons are switched off during the training process to avoid overfitting.\n",
    "\n",
    "##8. Like we saw in the code from question 5, its stops the model once we dont see more improvements, or to stop it from running for too long.\n",
    "\n",
    "##9. CNN's aka \"Convolutional Neural Networks\"\n",
    "\n",
    "##10. it puts a filter over and image, like a grid and then detects patterns inside. They're then combined into deeper layers to try and detect more complex things like objects or shapes, then teh model predicts whats in the image.\n",
    "\n",
    "##11. model.save(\"model_file.keras\") saves the model to a keras file - my_model = load_model(\"model_file.keras\") loads said model\n",
    "\n",
    "##12. CPU is the processor in the computer, GPU is the special processor which takes care of multiple jobs simultaneously,"
   ]
  },
  {
   "cell_type": "code",
   "execution_count": null,
   "id": "d5ff13b3",
   "metadata": {},
   "outputs": [],
   "source": [
    "!pip install pypdf\n",
    "!pip install tf-keras\n",
    "!pip install langchain_community\n",
    "!pip install langchain-openai\n",
    "!pip install sentence-transformers\n",
    "!pip install faiss-cpu\n",
    "!pip install huggingface_hub[hf_xet]"
   ]
  },
  {
   "cell_type": "code",
   "execution_count": null,
   "id": "86477b61",
   "metadata": {},
   "outputs": [],
   "source": [
    "##\n",
    "\n",
    "from langchain_community.document_loaders import PyPDFLoader\n",
    "from langchain.text_splitter import CharacterTextSplitter\n",
    "\n",
    "# Loads the PDF as one doc\n",
    "loader = PyPDFLoader(r\"C:\\Users\\ahern\\Desktop\\Kunskap DL2\\PlayerDnDBasicRules_v0.2_PrintFriendly.pdf\")\n",
    "data = loader.load()\n",
    "\n",
    "# Split the text into chunks, each chunk will be 1000 characters long with an overlap of 100 characters\n",
    "text_splitter = CharacterTextSplitter(chunk_size=1000, chunk_overlap=100)\n",
    "docs = text_splitter.split_documents(data)"
   ]
  },
  {
   "cell_type": "code",
   "execution_count": null,
   "id": "1cccde58",
   "metadata": {},
   "outputs": [],
   "source": [
    "from langchain.embeddings import HuggingFaceEmbeddings\n",
    "\n",
    "# HEre we use the HuggingFaceEmbeddings to create embeddings for the text chunks\n",
    "embeddings = HuggingFaceEmbeddings(model_name=\"all-MiniLM-L6-v2\")"
   ]
  },
  {
   "cell_type": "code",
   "execution_count": null,
   "id": "d00d1ca8",
   "metadata": {},
   "outputs": [],
   "source": [
    "from langchain.vectorstores import FAISS\n",
    "\n",
    "# Here we create a FAISS vector store from the documents and embeddings\n",
    "vectorstore = FAISS.from_documents(docs, embeddings)\n",
    "retriever = vectorstore.as_retriever()"
   ]
  },
  {
   "cell_type": "code",
   "execution_count": null,
   "id": "656308c0",
   "metadata": {},
   "outputs": [],
   "source": [
    "## This is the second actual model i made, which i will explain deeper later in the report. This model is using the FLan-T5 model from HuggingFace, which is a text-to-text model. It can be used for various tasks like summarization, translation, and question answering.\n",
    "\n",
    "from transformers import AutoTokenizer, AutoModelForSeq2SeqLM, pipeline\n",
    "from langchain.llms import HuggingFacePipeline\n",
    "# Load the FLAN-T5 model and tokenizer\n",
    "model_name = \"google/flan-t5-base\"\n",
    "tokenizer = AutoTokenizer.from_pretrained(model_name)\n",
    "model = AutoModelForSeq2SeqLM.from_pretrained(model_name)\n",
    "\n",
    "# Createss a text2text generation pipeline\n",
    "text2text_pipeline = pipeline(\n",
    "    \"text2text-generation\",\n",
    "    model=model,\n",
    "    tokenizer=tokenizer,\n",
    "    max_new_tokens=200\n",
    ")\n",
    "# makes a HuggingFacePipeline instance\n",
    "llm = HuggingFacePipeline(pipeline=text2text_pipeline)"
   ]
  },
  {
   "cell_type": "code",
   "execution_count": null,
   "id": "761700ed",
   "metadata": {},
   "outputs": [],
   "source": [
    "from langchain.chains import RetrievalQA\n",
    "\n",
    "# Create a RetrievalQA chain that uses the retriever and the LLM\n",
    "qa_chain = RetrievalQA.from_chain_type(\n",
    "    llm=llm,\n",
    "    retriever=retriever,  \n",
    "    return_source_documents=True\n",
    ")"
   ]
  },
  {
   "cell_type": "code",
   "execution_count": null,
   "id": "9c0384ea",
   "metadata": {},
   "outputs": [],
   "source": [
    "## Heres the basic use of my model, you can simply edit inside the \"\" after query = to ask it different questions. Or in the next cell you'll see i made a terminal loop where you can ask questions.\n",
    "query = \"What is AC?\"\n",
    "result = qa_chain({\"query\": query})\n",
    "\n",
    "print(result[\"result\"])"
   ]
  },
  {
   "cell_type": "code",
   "execution_count": null,
   "id": "2a2bc4a2",
   "metadata": {},
   "outputs": [],
   "source": [
    "## Here is the you can ask questions in the tyerminal to the model until you type \"exit\" to stop the program.\n",
    "\n",
    "while True:\n",
    "    user_input = input(\"Ask a question about D&D (or type 'exit'): \")\n",
    "    if user_input.lower() in [\"exit\", \"quit\"]:\n",
    "        print(\"Goodbye!\")\n",
    "        break\n",
    "\n",
    "    response = qa_chain.invoke({\"query\": user_input})\n",
    "    print(\"Answer:\", response[\"result\"])"
   ]
  },
  {
   "cell_type": "code",
   "execution_count": null,
   "id": "278f0b88",
   "metadata": {},
   "outputs": [],
   "source": [
    "\n",
    "## So the question in the assignment was how this code could be used i reality, and which potentual challenges and opportunities exist. Firstly I want to quickly explain why I used a document about Dungeons and Dragons (D&D) as my data source?\n",
    "# I Chose the topic because its something i know like the back of my hand, which allowed me to focus on the technical aspects of the model rather than trying to understand the data. \n",
    "# It also meant that i would be able to tell straaight away if the model was working properly or not, I know the content of the document well enough to know the difference between an accurate and inaccurate answer from my model.\n",
    "# I'd like to also note that the pdf i used is a free doc, 180 pages, that i sourced from the wizards of the coast website, which is the company that makes D&D. https://media.wizards.com/2018/dnd/downloads/DnD_BasicRules_2018.pdf\n",
    "\n",
    "# So, my actual plan was to make a simple RAG model which could be used for onboarding personel at a company. From experience i have found that new staff are commonly given training documents or manueals to read on arrival, which they then have to remember and use later on.\n",
    "# This might be easy for some people, but for others, myself included, it can be hard to remember everything you read in a manual. It would be nice to be able to ask questions about the document and get quick accurate answers based on what was in the writings.\n",
    "# My model runs on the idea that you've read the document, and have follow up questions about its content. \n",
    "# So I would imagine this model would be intgrated into a companies internal systems the made avaulable to all employees, not just newbies.\n",
    "\n",
    "# Now, for the challenges, well, first of all you'd have to make sure the docs or pdfs are constantly updated, for yuou could end up giving out outdated info to staff. \n",
    "# There might also be a problem with so vague questions, it might rely too much of the level of how much the person has read the documents.\n",
    "# The model i used is free and easy to use, but if it were used in a real company, you might want to use a more advanced model, which could be costly.\n",
    "# Honeestly speaking, the model is a little slow to answer, not terrible, but not super fast either.\n",
    "\n",
    "## Now i wnat to abnswer, why did i chose the FLan 5 model? Well, after i tested a previous model (tiiuae/falcon-rw-1b), i found its answers were not only unhelpful, but kind of junk and hard to read\n",
    "## Here is an example of the answer i got from the first model i rejected:\n",
    "\n",
    "## \" 9D&D Player’s Basic Rules v0.2 | Chapter 1: Step-by-Step Characters\n",
    "## AC using the rules in chapter 5. Record your AC on \n",
    "## your character sheet.\n",
    "##  Your character needs to be proficient with armor and \n",
    "## shields to wear and use them effectively, and your armor \n",
    "## and shield proficiencies are determined by your class. \n",
    "## There are drawbacks to wearing armor or carrying a \n",
    "## shield if you lack the required proficiency, as explained \n",
    "## in chapter 5.\n",
    "##  Some spells and class features give you a different \n",
    "## way to calculate your AC. If you have multiple features \n",
    "## that give you different ways to calculate your AC, you \n",
    "## choose which one to use.\n",
    "## Weapons\n",
    "## For each weapon your character wields, calculate the \n",
    "## modifier you use when you attack with the weapon and \n",
    "## the damage you deal when you hit.\n",
    "##  When you make an attack with a weapon, you roll \n",
    "## a d20 and add your proficiency bonus (but only if you \n",
    "## are proficient with the weapon) and the appropriate \n",
    "## ability modifier.\n",
    "## • For attacks with melee weapons, use your Strength \n",
    "## ...\n",
    "## and straps distribute the weight over the body.\n",
    "\n",
    "## Question: What is AC?\n",
    "## Helpful Answer:!koochum;,and ICD,.Andac;moo;,IACI,theclat;·moac;IAC;Now,the.,ThecorrectThe;,corrected,,and,, and.,,,,IACI,I,ICorrected.,IACI,,I,corrected,.,,,.,.,,IACI,I,,,,And,,,.,.,DO,,,I,,,.,I,,,,,,,I,,,I,I,,I,I,,EdI,I,,,.,II,,,,,DO,.,,,.,,,and,,,,,,DO,,I,�,.,,,,,,,,,,,,,,,,,,,(,,,\n",
    "## Output is truncated. View as a scrollable element or open in a text editor. Adjust cell output settings...\"\"\n",
    "\n",
    "\n",
    "\n",
    "## As you can see, the model is not very good at answering the question, it just gives a lot of random text that doesn't really answer the question. Lets compare that to the answer i got from the current model:\n",
    "\n",
    "## Armor Class Your Armor Class (AC) represents how well your character avoids being wounded in battle. Things that contribute to your AC include the armor you wear, the shield you carry, and your Dexterity modifier. \n",
    "# Without armor or a shield, your AC equals 10 + his or her Dexterity modifier. Without armor or a shield, your AC equals 10 + his or her Dexterity modifier"
   ]
  },
  {
   "cell_type": "code",
   "execution_count": null,
   "id": "c6dc85e3",
   "metadata": {},
   "outputs": [],
   "source": []
  },
  {
   "cell_type": "code",
   "execution_count": null,
   "id": "23821b2f",
   "metadata": {},
   "outputs": [],
   "source": []
  },
  {
   "cell_type": "code",
   "execution_count": null,
   "id": "26f337b4",
   "metadata": {},
   "outputs": [],
   "source": []
  }
 ],
 "metadata": {
  "kernelspec": {
   "display_name": "Python 3",
   "language": "python",
   "name": "python3"
  },
  "language_info": {
   "codemirror_mode": {
    "name": "ipython",
    "version": 3
   },
   "file_extension": ".py",
   "mimetype": "text/x-python",
   "name": "python",
   "nbconvert_exporter": "python",
   "pygments_lexer": "ipython3",
   "version": "3.11.9"
  }
 },
 "nbformat": 4,
 "nbformat_minor": 5
}
